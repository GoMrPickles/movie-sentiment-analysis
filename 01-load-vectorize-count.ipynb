{
 "cells": [
  {
   "cell_type": "markdown",
   "metadata": {
    "deletable": true,
    "editable": true
   },
   "source": [
    "# Objective\n",
    "\n",
    "* Load Data, vectorize reviews to numbers\n",
    "* Build a basic model based on counting\n",
    "* Evaluate the Model\n",
    "* Make a first Kaggle Submission"
   ]
  },
  {
   "cell_type": "markdown",
   "metadata": {
    "deletable": true,
    "editable": true
   },
   "source": [
    "## Download Data from Kaggle:\n",
    "\n",
    "* Competition Link: https://www.kaggle.com/c/movie-sentiment-analysis\n",
    "        \n",
    "* Unzip into Data Directory"
   ]
  },
  {
   "cell_type": "code",
   "execution_count": null,
   "metadata": {
    "collapsed": true,
    "deletable": true,
    "editable": true
   },
   "outputs": [],
   "source": [
    "from __future__ import print_function  # Python 2/3 compatibility\n",
    "import numpy as np\n",
    "import pandas as pd\n",
    "from collections import Counter\n",
    "\n",
    "from IPython.display import Image"
   ]
  },
  {
   "cell_type": "markdown",
   "metadata": {
    "deletable": true,
    "editable": true
   },
   "source": [
    "## Load Data"
   ]
  },
  {
   "cell_type": "code",
   "execution_count": null,
   "metadata": {
    "collapsed": false,
    "deletable": true,
    "editable": true
   },
   "outputs": [],
   "source": [
    "train_df = pd.read_csv(\"data/train.tsv\", sep=\"\\t\")"
   ]
  },
  {
   "cell_type": "code",
   "execution_count": null,
   "metadata": {
    "collapsed": false,
    "deletable": true,
    "editable": true
   },
   "outputs": [],
   "source": [
    "train_df.sample(10)"
   ]
  },
  {
   "cell_type": "code",
   "execution_count": null,
   "metadata": {
    "collapsed": false,
    "deletable": true,
    "editable": true
   },
   "outputs": [],
   "source": [
    "# Load the Test Dataset\n",
    "# Note that it's missing the Sentiment Column.  That's what we need to Predict\n",
    "#\n",
    "test_df = pd.read_csv(\"data/test.tsv\", sep=\"\\t\")\n",
    "test_df.head()"
   ]
  },
  {
   "cell_type": "markdown",
   "metadata": {
    "deletable": true,
    "editable": true
   },
   "source": [
    "## Explore Dataset"
   ]
  },
  {
   "cell_type": "code",
   "execution_count": null,
   "metadata": {
    "collapsed": false,
    "deletable": true,
    "editable": true
   },
   "outputs": [],
   "source": [
    "# Equal Number of Positive and Negative Sentiments\n",
    "train_df.sentiment.value_counts()"
   ]
  },
  {
   "cell_type": "code",
   "execution_count": null,
   "metadata": {
    "collapsed": false,
    "deletable": true,
    "editable": true
   },
   "outputs": [],
   "source": [
    "# Lets take a look at some examples\n",
    "def print_reviews(reviews, max_words=500):\n",
    "    for review in reviews:\n",
    "        print(review[:500], end=\"\\n\\n\")"
   ]
  },
  {
   "cell_type": "code",
   "execution_count": null,
   "metadata": {
    "collapsed": false,
    "deletable": true,
    "editable": true
   },
   "outputs": [],
   "source": [
    "# Some Positive Reviews\n",
    "print(\"Sample **Positive** Reviews: \", \"\\n\")\n",
    "print_reviews(train_df[train_df[\"sentiment\"] == 1].sample(3).review)"
   ]
  },
  {
   "cell_type": "code",
   "execution_count": null,
   "metadata": {
    "collapsed": false,
    "deletable": true,
    "editable": true
   },
   "outputs": [],
   "source": [
    "# Some Positive Reviews\n",
    "print(\"Sample **Negative** Reviews: \", \"\\n\")\n",
    "print_reviews(train_df[train_df[\"sentiment\"] == 1].sample(3).review)"
   ]
  },
  {
   "cell_type": "markdown",
   "metadata": {
    "deletable": true,
    "editable": true
   },
   "source": [
    "## Vectorize Data (a.k.a. covert text to numbers)\n",
    "\n",
    "Computers don't understand Texts, so we need to convert texts to numbers before we could do any math on it and see if we can build a system to classify a review as Positive or Negative.\n",
    "\n",
    "Ways to vectorize data:\n",
    "\n",
    "* Bag of Words\n",
    "* TF-IDF\n",
    "* Word Embeddings (Word2Vec) "
   ]
  },
  {
   "cell_type": "markdown",
   "metadata": {
    "deletable": true,
    "editable": true
   },
   "source": [
    "### Bag of Words\n",
    "\n",
    "Take each sentence and count how many occurances of a particular word."
   ]
  },
  {
   "cell_type": "code",
   "execution_count": null,
   "metadata": {
    "collapsed": true,
    "deletable": true,
    "editable": true
   },
   "outputs": [],
   "source": [
    "## Doing it by Hand\n",
    "\n",
    "def bag_of_words_vocab(reviews):\n",
    "    \"\"\"Returns words in the reviews\"\"\"\n",
    "    # all_words = []\n",
    "    # for review in reviews:\n",
    "    #    for word in review.split():\n",
    "    #       all_words.append(word)\n",
    "    ## List comprehension method of the same lines above\n",
    "    all_words = [word.lower() for review in reviews for word in review.split(\" \")]\n",
    "    return Counter(all_words)"
   ]
  },
  {
   "cell_type": "code",
   "execution_count": null,
   "metadata": {
    "collapsed": false,
    "deletable": true,
    "editable": true
   },
   "outputs": [],
   "source": [
    "words_vocab = bag_of_words_vocab(train_df.review)"
   ]
  },
  {
   "cell_type": "code",
   "execution_count": null,
   "metadata": {
    "collapsed": false,
    "deletable": true,
    "editable": true
   },
   "outputs": [],
   "source": [
    "words_vocab.most_common(20)"
   ]
  },
  {
   "cell_type": "markdown",
   "metadata": {
    "deletable": true,
    "editable": true
   },
   "source": [
    "#### Observations:\n",
    "\n",
    "* Common words are not that meaningful (also called Stop words - unfortunately)\n",
    "* These words are likely to appear in both Positive and Negative Reviews\n",
    "\n",
    "\n",
    "We need a way to find what words are mroe likely to cocur in Postive Review as compared to Negative Review"
   ]
  },
  {
   "cell_type": "code",
   "execution_count": null,
   "metadata": {
    "collapsed": true,
    "deletable": true,
    "editable": true
   },
   "outputs": [],
   "source": [
    "pos_words_vocab = bag_of_words_vocab(train_df[train_df.sentiment == 1].review)\n",
    "neg_words_vocab = bag_of_words_vocab(train_df[train_df.sentiment == 0].review)"
   ]
  },
  {
   "cell_type": "code",
   "execution_count": null,
   "metadata": {
    "collapsed": false,
    "deletable": true,
    "editable": true
   },
   "outputs": [],
   "source": [
    "pos_words_vocab.most_common(10)"
   ]
  },
  {
   "cell_type": "code",
   "execution_count": null,
   "metadata": {
    "collapsed": false,
    "deletable": true,
    "editable": true
   },
   "outputs": [],
   "source": [
    "neg_words_vocab.most_common(10)"
   ]
  },
  {
   "cell_type": "code",
   "execution_count": null,
   "metadata": {
    "collapsed": false,
    "deletable": true,
    "editable": true
   },
   "outputs": [],
   "source": [
    "pos_neg_freq = Counter()\n",
    "\n",
    "for word in words_vocab:\n",
    "    pos_neg_freq[word] = (pos_words_vocab[word] + 1e-3) / (neg_words_vocab[word] + 1e-3)"
   ]
  },
  {
   "cell_type": "code",
   "execution_count": null,
   "metadata": {
    "collapsed": false,
    "deletable": true,
    "editable": true
   },
   "outputs": [],
   "source": [
    "print(\"Neutral words:\")\n",
    "print(\"Pos-to-neg for 'the' = {:.2f}\".format(pos_neg_freq[\"is\"]))\n",
    "print(\"Pos-to-neg for 'movie' = {:.2f}\".format(pos_neg_freq[\"is\"]))\n",
    "\n",
    "print(\"\\nPositive and Negative review words:\")\n",
    "print(\"Pos-to-neg for 'amazing' = {:.2f}\".format(pos_neg_freq[\"great\"]))\n",
    "print(\"Pos-to-neg for 'terrible' = {:.2f}\".format(pos_neg_freq[\"terrible\"]))"
   ]
  },
  {
   "cell_type": "markdown",
   "metadata": {
    "deletable": true,
    "editable": true
   },
   "source": [
    "### Let's Amplify the difference using Log Scale\n",
    "\n",
    "\n",
    "* Neutral Values are Close to 1\n",
    "* Negative Sentiment Words are less than 1\n",
    "* Positive Sentiment Words are greater than 1\n",
    "\n",
    "When Converted to Log Scale -\n",
    "\n",
    "* Neutral Values are Close to 0\n",
    "* Negative Sentiment Words are negative\n",
    "* Positive Sentiment Words are postive\n",
    "\n",
    "That not only makes lot of sense when looking at the numbers, but we could use it for our first classifier"
   ]
  },
  {
   "cell_type": "code",
   "execution_count": null,
   "metadata": {
    "collapsed": false,
    "deletable": true,
    "editable": true
   },
   "outputs": [],
   "source": [
    "# https://www.desmos.com/calculator  \n",
    "Image(\"images/log-function.png\", width=960)"
   ]
  },
  {
   "cell_type": "code",
   "execution_count": null,
   "metadata": {
    "collapsed": true,
    "deletable": true,
    "editable": true
   },
   "outputs": [],
   "source": [
    "for word in pos_neg_freq:\n",
    "    pos_neg_freq[word] = np.log(pos_neg_freq[word])"
   ]
  },
  {
   "cell_type": "code",
   "execution_count": null,
   "metadata": {
    "collapsed": false,
    "deletable": true,
    "editable": true
   },
   "outputs": [],
   "source": [
    "print(\"Neutral words:\")\n",
    "print(\"Pos-to-neg for 'the' = {:.2f}\".format(pos_neg_freq[\"is\"]))\n",
    "print(\"Pos-to-neg for 'movie' = {:.2f}\".format(pos_neg_freq[\"is\"]))\n",
    "\n",
    "print(\"\\nPositive and Negative review words:\")\n",
    "print(\"Pos-to-neg for 'amazing' = {:.2f}\".format(pos_neg_freq[\"great\"]))\n",
    "print(\"Pos-to-neg for 'terrible' = {:.2f}\".format(pos_neg_freq[\"terrible\"]))"
   ]
  },
  {
   "cell_type": "markdown",
   "metadata": {
    "deletable": true,
    "editable": true
   },
   "source": [
    "## Time to build a Counting Model\n",
    "\n",
    "* For each Review, we will ADD all the pos_neg_freq values and if the Total for all words in the given review is > 0, we will call it Positive Review and if it's a negative total, we will call it a Negative Review.  Sounds good?"
   ]
  },
  {
   "cell_type": "code",
   "execution_count": null,
   "metadata": {
    "collapsed": true,
    "deletable": true,
    "editable": true
   },
   "outputs": [],
   "source": [
    "class CountingClassifier(object):\n",
    "    \n",
    "    def __init__(self, pos_neg_freq):\n",
    "        self.pos_neg_freq = pos_neg_freq\n",
    "    \n",
    "    def fit(self, X, y=None):\n",
    "        # No Machine Learing here.  It's just counting\n",
    "        pass\n",
    "    \n",
    "    def predict(self, X):\n",
    "        predictions = []\n",
    "        for review in X:\n",
    "            all_words = [word.lower() for word in review.split()]\n",
    "            result = np.sum(self.pos_neg_freq.get(word, 0) for word in all_words)\n",
    "            predictions.append(result)\n",
    "        return np.array(predictions)"
   ]
  },
  {
   "cell_type": "code",
   "execution_count": null,
   "metadata": {
    "collapsed": false,
    "deletable": true,
    "editable": true
   },
   "outputs": [],
   "source": [
    "counting_model = CountingClassifier(pos_neg_freq)\n",
    "train_predictions = counting_model.predict(train_df.review)"
   ]
  },
  {
   "cell_type": "code",
   "execution_count": null,
   "metadata": {
    "collapsed": false,
    "deletable": true,
    "editable": true
   },
   "outputs": [],
   "source": [
    "train_predictions[:10]"
   ]
  },
  {
   "cell_type": "code",
   "execution_count": null,
   "metadata": {
    "collapsed": false,
    "deletable": true,
    "editable": true
   },
   "outputs": [],
   "source": [
    "# Covert to Binary Classifier\n",
    "train_predictions > 0"
   ]
  },
  {
   "cell_type": "code",
   "execution_count": null,
   "metadata": {
    "collapsed": false,
    "deletable": true,
    "editable": true
   },
   "outputs": [],
   "source": [
    "y_pred = (train_predictions > 0).astype(int)\n",
    "y_pred"
   ]
  },
  {
   "cell_type": "code",
   "execution_count": null,
   "metadata": {
    "collapsed": false,
    "deletable": true,
    "editable": true
   },
   "outputs": [],
   "source": [
    "y_true = train_df.sentiment\n",
    "len(y_true)"
   ]
  },
  {
   "cell_type": "code",
   "execution_count": null,
   "metadata": {
    "collapsed": false,
    "deletable": true,
    "editable": true
   },
   "outputs": [],
   "source": [
    "np.sum(y_pred == y_true)"
   ]
  },
  {
   "cell_type": "code",
   "execution_count": null,
   "metadata": {
    "collapsed": false,
    "deletable": true,
    "editable": true
   },
   "outputs": [],
   "source": [
    "## Accuracy\n",
    "train_accuracy = np.sum(y_pred == y_true) / len(y_true)\n",
    "\n",
    "print(\"Accuracy on Train Data: {:.2f}\".format(train_accuracy))"
   ]
  },
  {
   "cell_type": "markdown",
   "metadata": {
    "deletable": true,
    "editable": true
   },
   "source": [
    "#### Machine Learning Easy?  What Gives?\n",
    "\n",
    "Remember this is Training Accuracy.  We have not split our Data into Train and Validation (which we will do in our next notebook when we actualy build a Machine Learning Model)"
   ]
  },
  {
   "cell_type": "markdown",
   "metadata": {
    "deletable": true,
    "editable": true
   },
   "source": [
    "## Make a Submission to Kaggle\n",
    "\n",
    "Predict on Test Data and Submit to Kaggle.  May be we could end the tutorial right here :-D"
   ]
  },
  {
   "cell_type": "code",
   "execution_count": null,
   "metadata": {
    "collapsed": false,
    "deletable": true,
    "editable": true
   },
   "outputs": [],
   "source": [
    "## Test Accracy\n",
    "test_predictions = counting_model.predict(test_df.review)\n",
    "\n",
    "test_predictions"
   ]
  },
  {
   "cell_type": "code",
   "execution_count": null,
   "metadata": {
    "collapsed": false,
    "deletable": true,
    "editable": true
   },
   "outputs": [],
   "source": [
    "y_pred = (test_predictions > 0).astype(int)"
   ]
  },
  {
   "cell_type": "code",
   "execution_count": null,
   "metadata": {
    "collapsed": true,
    "deletable": true,
    "editable": true
   },
   "outputs": [],
   "source": [
    "df = pd.DataFrame({\n",
    "    \"document_id\": test_df.document_id,\n",
    "    \"sentiment\": y_pred\n",
    "})"
   ]
  },
  {
   "cell_type": "code",
   "execution_count": null,
   "metadata": {
    "collapsed": false,
    "deletable": true,
    "editable": true
   },
   "outputs": [],
   "source": [
    "df.head()"
   ]
  },
  {
   "cell_type": "code",
   "execution_count": null,
   "metadata": {
    "collapsed": true,
    "deletable": true,
    "editable": true
   },
   "outputs": [],
   "source": [
    "df.to_csv(\"data/count-submission.csv\", index=False)"
   ]
  },
  {
   "cell_type": "markdown",
   "metadata": {
    "deletable": true,
    "editable": true
   },
   "source": [
    "## Reasons for Testing Accuracy Being Lower?\n",
    "\n",
    "\n",
    "* One Hypothesis, Since we are just Adding up ALL of the scores for each word in the review, the length of the reivew could have an impact.  Let's look at length of reviews in train and test dataset"
   ]
  },
  {
   "cell_type": "code",
   "execution_count": null,
   "metadata": {
    "collapsed": true,
    "deletable": true,
    "editable": true
   },
   "outputs": [],
   "source": [
    "import matplotlib.pyplot as plt\n",
    "\n",
    "%matplotlib inline"
   ]
  },
  {
   "cell_type": "code",
   "execution_count": null,
   "metadata": {
    "collapsed": false,
    "deletable": true,
    "editable": true
   },
   "outputs": [],
   "source": [
    "train_df.review.str.len().hist(log=True)"
   ]
  },
  {
   "cell_type": "code",
   "execution_count": null,
   "metadata": {
    "collapsed": false,
    "deletable": true,
    "editable": true
   },
   "outputs": [],
   "source": [
    "test_df.review.str.len().hist(log=True)"
   ]
  },
  {
   "cell_type": "markdown",
   "metadata": {
    "deletable": true,
    "editable": true
   },
   "source": [
    "## Next Steps\n",
    "\n",
    "* Split the Training Data into Training and Validation to avoid surprises on New Data(might not have helped in our counting method)\n",
    "* Build a Machine Learning Model beyond the rule based system of Counting values"
   ]
  }
 ],
 "metadata": {
  "kernelspec": {
   "display_name": "Python 3",
   "language": "python",
   "name": "python3"
  },
  "language_info": {
   "codemirror_mode": {
    "name": "ipython",
    "version": 3
   },
   "file_extension": ".py",
   "mimetype": "text/x-python",
   "name": "python",
   "nbconvert_exporter": "python",
   "pygments_lexer": "ipython3",
   "version": "3.5.3"
  }
 },
 "nbformat": 4,
 "nbformat_minor": 2
}
